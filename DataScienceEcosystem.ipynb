{
 "cells": [
  {
   "cell_type": "markdown",
   "id": "d5f4003d-2ff0-4c19-a0d7-8898dd247af0",
   "metadata": {
    "tags": []
   },
   "source": [
    "# Data Science Tools and Ecosystem"
   ]
  },
  {
   "cell_type": "markdown",
   "id": "42100f1d-5f39-4aae-a3bc-28e5404196de",
   "metadata": {},
   "source": [
    "In this notebook, Data Science Tools and Ecosystem are summarized."
   ]
  },
  {
   "cell_type": "markdown",
   "id": "30ec95b3-ef19-40ba-831b-d0ccda0bc99f",
   "metadata": {
    "tags": []
   },
   "source": [
    "Some of the popular languages that Data Scientists use are:\n",
    "1. Python\n",
    "2. R Language\n",
    "3. SQL"
   ]
  },
  {
   "cell_type": "markdown",
   "id": "1c8a1a94-aa15-43e7-bdca-3142991e0092",
   "metadata": {},
   "source": [
    "Some of the commonly used libraries used by Data Scientists include:\n",
    "* Numpy\n",
    "*  SciPy\n",
    "*  Matplotlib\n",
    "*  Pandas"
   ]
  },
  {
   "cell_type": "markdown",
   "id": "4c6ca62b-5fa2-4169-93aa-6a1ecbde7f88",
   "metadata": {
    "tags": []
   },
   "source": [
    " Data Science Tools \n",
    " --------------------\n",
    " Jupyter \n",
    " \n",
    " Apache Zeppelin\n",
    " \n",
    " R Studio \n"
   ]
  },
  {
   "cell_type": "markdown",
   "id": "28a8e460-74cf-4016-abcf-7ce3a20c2a43",
   "metadata": {},
   "source": [
    "### Below are a few examples of evaluating arithmetic expressions in Python"
   ]
  },
  {
   "cell_type": "code",
   "execution_count": 1,
   "id": "928e32bc-7f2e-4458-8769-c843b137c7fa",
   "metadata": {
    "tags": []
   },
   "outputs": [
    {
     "data": {
      "text/plain": [
       "17"
      ]
     },
     "execution_count": 1,
     "metadata": {},
     "output_type": "execute_result"
    }
   ],
   "source": [
    "(3*4)+5\n",
    "# This a simple arithmetic expression to mutiply then add integers\n"
   ]
  },
  {
   "cell_type": "code",
   "execution_count": 2,
   "id": "6e936c60-efbf-453c-b564-ba2e52e1e822",
   "metadata": {
    "tags": []
   },
   "outputs": [
    {
     "data": {
      "text/plain": [
       "3.3333333333333335"
      ]
     },
     "execution_count": 2,
     "metadata": {},
     "output_type": "execute_result"
    }
   ],
   "source": [
    "200/60\n",
    "# This will convert 200 minutes to hours by diving by 60"
   ]
  },
  {
   "cell_type": "markdown",
   "id": "bdb701d3-b38b-4881-bada-8481ae45f81d",
   "metadata": {},
   "source": [
    "**Objectives:**\n",
    "\n",
    "List popular languages for Data Science\n",
    "- Python\n",
    "- R\n",
    "- SQL\n",
    "- C++\n",
    "- Julia\n",
    "- Scala\n",
    "- Java"
   ]
  },
  {
   "cell_type": "markdown",
   "id": "dfc6381b-27eb-4dd3-b474-3fbf910524e0",
   "metadata": {},
   "source": [
    "## Author\n",
    "Durga Bhavani Reddy"
   ]
  },
  {
   "cell_type": "code",
   "execution_count": null,
   "id": "67c17b36-af45-47dc-8a34-0e6f1965726a",
   "metadata": {},
   "outputs": [],
   "source": []
  }
 ],
 "metadata": {
  "kernelspec": {
   "display_name": "Python",
   "language": "python",
   "name": "conda-env-python-py"
  },
  "language_info": {
   "codemirror_mode": {
    "name": "ipython",
    "version": 3
   },
   "file_extension": ".py",
   "mimetype": "text/x-python",
   "name": "python",
   "nbconvert_exporter": "python",
   "pygments_lexer": "ipython3",
   "version": "3.7.12"
  }
 },
 "nbformat": 4,
 "nbformat_minor": 5
}
